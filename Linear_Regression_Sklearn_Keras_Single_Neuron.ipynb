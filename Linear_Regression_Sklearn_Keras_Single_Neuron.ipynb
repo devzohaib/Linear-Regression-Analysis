{
  "nbformat": 4,
  "nbformat_minor": 0,
  "metadata": {
    "colab": {
      "name": "Linear Regression -Sklearn/Keras Single Neuron.ipynb",
      "provenance": [],
      "authorship_tag": "ABX9TyNzl3UpbohjxApk7aEWxGK9",
      "include_colab_link": true
    },
    "kernelspec": {
      "name": "python3",
      "display_name": "Python 3"
    }
  },
  "cells": [
    {
      "cell_type": "markdown",
      "metadata": {
        "id": "view-in-github",
        "colab_type": "text"
      },
      "source": [
        "<a href=\"https://colab.research.google.com/github/devzohaib/Simple-Linear-Regression/blob/master/Linear_Regression_Sklearn_Keras_Single_Neuron.ipynb\" target=\"_parent\"><img src=\"https://colab.research.google.com/assets/colab-badge.svg\" alt=\"Open In Colab\"/></a>"
      ]
    },
    {
      "cell_type": "markdown",
      "metadata": {
        "id": "f8HT0S4F4ofg"
      },
      "source": [
        "# Task: Co2 Emission Predciton based on Engine Size "
      ]
    },
    {
      "cell_type": "code",
      "metadata": {
        "id": "h1dRyCBe3WaF"
      },
      "source": [
        "# Require Libarary \r\n",
        "import pandas as pd"
      ],
      "execution_count": 107,
      "outputs": []
    },
    {
      "cell_type": "markdown",
      "metadata": {
        "id": "W4oOjM5f7Tbo"
      },
      "source": [
        "## Loading Dataset from the URL"
      ]
    },
    {
      "cell_type": "code",
      "metadata": {
        "colab": {
          "base_uri": "https://localhost:8080/"
        },
        "id": "fHi-ooog4F0C",
        "outputId": "72c64eda-f7ff-477a-a5de-0205d0d40e37"
      },
      "source": [
        "url = 'https://raw.githubusercontent.com/devzohaib/Simple-Linear-Regression/master/FuelConsumption.csv'\r\n",
        "df = pd.read_csv(url)\r\n",
        "df.shape,df.columns"
      ],
      "execution_count": 108,
      "outputs": [
        {
          "output_type": "execute_result",
          "data": {
            "text/plain": [
              "((1067, 13),\n",
              " Index(['MODELYEAR', 'MAKE', 'MODEL', 'VEHICLECLASS', 'ENGINESIZE', 'CYLINDERS',\n",
              "        'TRANSMISSION', 'FUELTYPE', 'FUELCONSUMPTION_CITY',\n",
              "        'FUELCONSUMPTION_HWY', 'FUELCONSUMPTION_COMB',\n",
              "        'FUELCONSUMPTION_COMB_MPG', 'CO2EMISSIONS'],\n",
              "       dtype='object'))"
            ]
          },
          "metadata": {
            "tags": []
          },
          "execution_count": 108
        }
      ]
    },
    {
      "cell_type": "markdown",
      "metadata": {
        "id": "lBLp5-Zy7d4S"
      },
      "source": [
        "### We have 13 columns in our dataset WE will focus on 2 Variable (EngineSize) and (Co2 Emission) We will build a machine learning model to predict the ammount of CO2 emmison given the engine Size. \r\n"
      ]
    },
    {
      "cell_type": "code",
      "metadata": {
        "colab": {
          "base_uri": "https://localhost:8080/"
        },
        "id": "tTeDuKSZ4PKF",
        "outputId": "1603ee78-e21e-487d-a5bb-866e8d7ce097"
      },
      "source": [
        "X = (df.ENGINESIZE).to_numpy() \r\n",
        "Y = (df.CO2EMISSIONS).to_numpy()\r\n",
        "\r\n",
        "type(X),type(Y)"
      ],
      "execution_count": 109,
      "outputs": [
        {
          "output_type": "execute_result",
          "data": {
            "text/plain": [
              "(numpy.ndarray, numpy.ndarray)"
            ]
          },
          "metadata": {
            "tags": []
          },
          "execution_count": 109
        }
      ]
    },
    {
      "cell_type": "markdown",
      "metadata": {
        "id": "PhmC6vCC-U5_"
      },
      "source": [
        "### Let Visualize the relation between Engine Size and Co2 emisson \r\n",
        "we have X and Y \r\n",
        "as in the graph we can see that we have Clear Linear Relatioship menas , if engine size increase the ammount of Co2 also increase. \r\n",
        "\r\n",
        "In other words we can say that we can Build Linear Model for this Senerio. \r\n"
      ]
    },
    {
      "cell_type": "code",
      "metadata": {
        "colab": {
          "base_uri": "https://localhost:8080/",
          "height": 283
        },
        "id": "Ggtkv1eG-jUg",
        "outputId": "2c6f7883-02f4-4b2a-b6ac-83df184257f4"
      },
      "source": [
        "import matplotlib.pyplot as plt\r\n",
        "\r\n",
        "plt.scatter(X,Y,c='b',s=5) # here c is color and s is size of dot"
      ],
      "execution_count": 110,
      "outputs": [
        {
          "output_type": "execute_result",
          "data": {
            "text/plain": [
              "<matplotlib.collections.PathCollection at 0x7fe2bcb5edd8>"
            ]
          },
          "metadata": {
            "tags": []
          },
          "execution_count": 110
        },
        {
          "output_type": "display_data",
          "data": {
            "image/png": "[encoded data removed]",
            "text/plain": [
              "<Figure size 432x288 with 1 Axes>"
            ]
          },
          "metadata": {
            "tags": [],
            "needs_background": "light"
          }
        }
      ]
    },
    {
      "cell_type": "markdown",
      "metadata": {
        "id": "wjtovMiv8SGI"
      },
      "source": [
        "### WE have Engine Size in Variale X and CO2 emmsion in Y variable. Now we have to Split our data into Traning and Testing . \r\n"
      ]
    },
    {
      "cell_type": "code",
      "metadata": {
        "colab": {
          "base_uri": "https://localhost:8080/"
        },
        "id": "si1cx7Bm8RQN",
        "outputId": "4a3be4ab-6b4b-49d4-816c-4213d439fcbb"
      },
      "source": [
        "from sklearn.model_selection import train_test_split\r\n",
        "\r\n",
        "X_train, X_test, y_train, y_test = train_test_split(X, Y, test_size=0.2, random_state=999)\r\n",
        "print(\"X_train :\",X_train.shape)\r\n",
        "print(\"y_train :\",y_train.shape)\r\n",
        "print(\"X_test :\",X_test.shape)\r\n",
        "print(\"Y_test :\",y_test.shape)\r\n"
      ],
      "execution_count": 111,
      "outputs": [
        {
          "output_type": "stream",
          "text": [
            "X_train : (853,)\n",
            "y_train : (853,)\n",
            "X_test : (214,)\n",
            "Y_test : (214,)\n"
          ],
          "name": "stdout"
        }
      ]
    },
    {
      "cell_type": "markdown",
      "metadata": {
        "id": "Pvwj3kkmAZyA"
      },
      "source": [
        "### Importing LinearRegressor form Sklearn\r\n"
      ]
    },
    {
      "cell_type": "code",
      "metadata": {
        "colab": {
          "base_uri": "https://localhost:8080/"
        },
        "id": "B_77Lu6k4Sdk",
        "outputId": "c7335ab1-d7a8-4658-b8ef-1e13e079ff12"
      },
      "source": [
        "from sklearn.linear_model import LinearRegression\r\n",
        "# Traning \r\n",
        "lreg = LinearRegression().fit(X_train.reshape(-1,1),y_train)\r\n",
        "# Score method tell us how well the model approximate the traing data points. \r\n",
        "# An score of 1 indicates that the model perfectly fit the data.\r\n",
        "score=lreg.score(X_train.reshape(-1,1),y_train)\r\n",
        "print(\"Model Accuracy on Traning Data \",score)\r\n",
        "\r\n",
        "# testing \r\n",
        "y_predict = lreg.predict(X_test.reshape(-1,1))\r\n",
        "\r\n",
        "# cheeking the score of model how well it perform on unseen data \r\n",
        "from sklearn.metrics import r2_score\r\n",
        "\r\n",
        "r2=r2_score(y_test,y_predict) # we can say that model perform well on the 77% of total data \r\n",
        "print(\"Model Accouracy on Test Data   \",r2)\r\n",
        "print(\"---------------------------------------------------\")\r\n",
        "print(\"Slope :\",lreg.coef_)\r\n",
        "print(\"Interc:\",lreg.intercept_)"
      ],
      "execution_count": 112,
      "outputs": [
        {
          "output_type": "stream",
          "text": [
            "Model Accuracy on Traning Data  0.7623829889084579\n",
            "Model Accouracy on Test Data    0.7700976201752513\n",
            "---------------------------------------------------\n",
            "Slope : [39.3531095]\n",
            "Interc: 124.79671166546274\n"
          ],
          "name": "stdout"
        }
      ]
    },
    {
      "cell_type": "code",
      "metadata": {
        "colab": {
          "base_uri": "https://localhost:8080/",
          "height": 283
        },
        "id": "GtG5d6pXPe6d",
        "outputId": "75e08ff1-fc53-4e60-f2f8-062f161b05f4"
      },
      "source": [
        "plt.scatter(X,Y,color='blue')\r\n",
        "plt.plot(X_test,y_predict,'-r')"
      ],
      "execution_count": 113,
      "outputs": [
        {
          "output_type": "execute_result",
          "data": {
            "text/plain": [
              "[<matplotlib.lines.Line2D at 0x7fe2bcad7780>]"
            ]
          },
          "metadata": {
            "tags": []
          },
          "execution_count": 113
        },
        {
          "output_type": "display_data",
          "data": {
            "image/png": "[encoded data removed]",
            "text/plain": [
              "<Figure size 432x288 with 1 Axes>"
            ]
          },
          "metadata": {
            "tags": [],
            "needs_background": "light"
          }
        }
      ]
    },
    {
      "cell_type": "markdown",
      "metadata": {
        "id": "q3XtnNu9NnoJ"
      },
      "source": [
        "# Linear Model With Single Neuron -\r\n"
      ]
    },
    {
      "cell_type": "code",
      "metadata": {
        "id": "xwv-TWYC6jjp"
      },
      "source": [
        "#  require library\r\n",
        "import tensorflow as tf\r\n",
        "import numpy as np\r\n",
        "from tensorflow import keras"
      ],
      "execution_count": 114,
      "outputs": []
    },
    {
      "cell_type": "code",
      "metadata": {
        "colab": {
          "base_uri": "https://localhost:8080/"
        },
        "id": "bLgoVYja6oTD",
        "outputId": "6f227cfb-d422-4072-8ed4-d5d65a695606"
      },
      "source": [
        "model = tf.keras.Sequential([keras.layers.Dense(units=1, input_shape=[1])])\r\n",
        "model.compile(optimizer='sgd', loss='mean_squared_error')\r\n",
        "model.fit(X_train,y_train, epochs=30)"
      ],
      "execution_count": 115,
      "outputs": [
        {
          "output_type": "stream",
          "text": [
            "Epoch 1/30\n",
            "27/27 [==============================] - 0s 1ms/step - loss: 7926.8979\n",
            "Epoch 2/30\n",
            "27/27 [==============================] - 0s 1ms/step - loss: 2393.8069\n",
            "Epoch 3/30\n",
            "27/27 [==============================] - 0s 1ms/step - loss: 2194.4038\n",
            "Epoch 4/30\n",
            "27/27 [==============================] - 0s 947us/step - loss: 2009.1461\n",
            "Epoch 5/30\n",
            "27/27 [==============================] - 0s 893us/step - loss: 1856.8414\n",
            "Epoch 6/30\n",
            "27/27 [==============================] - 0s 1ms/step - loss: 1729.0251\n",
            "Epoch 7/30\n",
            "27/27 [==============================] - 0s 1ms/step - loss: 1621.1285\n",
            "Epoch 8/30\n",
            "27/27 [==============================] - 0s 868us/step - loss: 1531.6757\n",
            "Epoch 9/30\n",
            "27/27 [==============================] - 0s 923us/step - loss: 1454.4659\n",
            "Epoch 10/30\n",
            "27/27 [==============================] - 0s 878us/step - loss: 1379.6040\n",
            "Epoch 11/30\n",
            "27/27 [==============================] - 0s 852us/step - loss: 1321.1847\n",
            "Epoch 12/30\n",
            "27/27 [==============================] - 0s 912us/step - loss: 1266.7831\n",
            "Epoch 13/30\n",
            "27/27 [==============================] - 0s 953us/step - loss: 1233.3715\n",
            "Epoch 14/30\n",
            "27/27 [==============================] - 0s 793us/step - loss: 1195.5959\n",
            "Epoch 15/30\n",
            "27/27 [==============================] - 0s 858us/step - loss: 1160.2518\n",
            "Epoch 16/30\n",
            "27/27 [==============================] - 0s 740us/step - loss: 1136.5585\n",
            "Epoch 17/30\n",
            "27/27 [==============================] - 0s 825us/step - loss: 1112.7107\n",
            "Epoch 18/30\n",
            "27/27 [==============================] - 0s 793us/step - loss: 1096.0342\n",
            "Epoch 19/30\n",
            "27/27 [==============================] - 0s 914us/step - loss: 1073.2681\n",
            "Epoch 20/30\n",
            "27/27 [==============================] - 0s 833us/step - loss: 1066.2106\n",
            "Epoch 21/30\n",
            "27/27 [==============================] - 0s 837us/step - loss: 1045.5492\n",
            "Epoch 22/30\n",
            "27/27 [==============================] - 0s 896us/step - loss: 1036.8225\n",
            "Epoch 23/30\n",
            "27/27 [==============================] - 0s 819us/step - loss: 1029.7524\n",
            "Epoch 24/30\n",
            "27/27 [==============================] - 0s 805us/step - loss: 1022.9703\n",
            "Epoch 25/30\n",
            "27/27 [==============================] - 0s 886us/step - loss: 1008.7559\n",
            "Epoch 26/30\n",
            "27/27 [==============================] - 0s 792us/step - loss: 1013.9025\n",
            "Epoch 27/30\n",
            "27/27 [==============================] - 0s 844us/step - loss: 1004.4372\n",
            "Epoch 28/30\n",
            "27/27 [==============================] - 0s 811us/step - loss: 1001.2723\n",
            "Epoch 29/30\n",
            "27/27 [==============================] - 0s 825us/step - loss: 1000.7460\n",
            "Epoch 30/30\n",
            "27/27 [==============================] - 0s 777us/step - loss: 992.9467\n"
          ],
          "name": "stdout"
        },
        {
          "output_type": "execute_result",
          "data": {
            "text/plain": [
              "<tensorflow.python.keras.callbacks.History at 0x7fe2bca006d8>"
            ]
          },
          "metadata": {
            "tags": []
          },
          "execution_count": 115
        }
      ]
    },
    {
      "cell_type": "code",
      "metadata": {
        "id": "9AXiMSSi6sSK"
      },
      "source": [
        "y_pre = model.predict(X_test)"
      ],
      "execution_count": 116,
      "outputs": []
    },
    {
      "cell_type": "code",
      "metadata": {
        "colab": {
          "base_uri": "https://localhost:8080/"
        },
        "id": "j2TgyUYZ6thn",
        "outputId": "e141427d-b071-4779-b342-1fb8a3ec7c39"
      },
      "source": [
        "r2_score(y_test,y_pre)"
      ],
      "execution_count": 117,
      "outputs": [
        {
          "output_type": "execute_result",
          "data": {
            "text/plain": [
              "0.761881164105503"
            ]
          },
          "metadata": {
            "tags": []
          },
          "execution_count": 117
        }
      ]
    },
    {
      "cell_type": "code",
      "metadata": {
        "colab": {
          "base_uri": "https://localhost:8080/",
          "height": 283
        },
        "id": "vUZpEohP66QO",
        "outputId": "fb2200b1-b1fe-4785-bb6d-3d9727c463fc"
      },
      "source": [
        "plt.scatter(X,Y,color='blue')\r\n",
        "plt.plot(X_test,y_pre,'-r')"
      ],
      "execution_count": 118,
      "outputs": [
        {
          "output_type": "execute_result",
          "data": {
            "text/plain": [
              "[<matplotlib.lines.Line2D at 0x7fe2bc9a6908>]"
            ]
          },
          "metadata": {
            "tags": []
          },
          "execution_count": 118
        },
        {
          "output_type": "display_data",
          "data": {
            "image/png": "[encoded data removed]",
            "text/plain": [
              "<Figure size 432x288 with 1 Axes>"
            ]
          },
          "metadata": {
            "tags": [],
            "needs_background": "light"
          }
        }
      ]
    },
    {
      "cell_type": "code",
      "metadata": {
        "colab": {
          "base_uri": "https://localhost:8080/"
        },
        "id": "kueFu44TRAqo",
        "outputId": "824ebd8e-9f4e-4ae8-d58a-cf81eaffc70e"
      },
      "source": [
        "model.summary()"
      ],
      "execution_count": 119,
      "outputs": [
        {
          "output_type": "stream",
          "text": [
            "Model: \"sequential_2\"\n",
            "_________________________________________________________________\n",
            "Layer (type)                 Output Shape              Param #   \n",
            "=================================================================\n",
            "dense_2 (Dense)              (None, 1)                 2         \n",
            "=================================================================\n",
            "Total params: 2\n",
            "Trainable params: 2\n",
            "Non-trainable params: 0\n",
            "_________________________________________________________________\n"
          ],
          "name": "stdout"
        }
      ]
    },
    {
      "cell_type": "code",
      "metadata": {
        "colab": {
          "base_uri": "https://localhost:8080/"
        },
        "id": "UQAgsjc3RCGt",
        "outputId": "26fa54f7-cd7f-420e-f501-3bae49ebc6bf"
      },
      "source": [
        "model.weights"
      ],
      "execution_count": 120,
      "outputs": [
        {
          "output_type": "execute_result",
          "data": {
            "text/plain": [
              "[<tf.Variable 'dense_2/kernel:0' shape=(1, 1) dtype=float32, numpy=array([[42.328953]], dtype=float32)>,\n",
              " <tf.Variable 'dense_2/bias:0' shape=(1,) dtype=float32, numpy=array([114.70404], dtype=float32)>]"
            ]
          },
          "metadata": {
            "tags": []
          },
          "execution_count": 120
        }
      ]
    }
  ]
}